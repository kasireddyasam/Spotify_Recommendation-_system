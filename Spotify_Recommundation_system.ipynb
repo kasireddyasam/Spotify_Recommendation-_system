{
 "cells": [
  {
   "cell_type": "code",
   "execution_count": 1,
   "id": "59e4e950",
   "metadata": {},
   "outputs": [],
   "source": [
    "import pandas as pd\n"
   ]
  },
  {
   "cell_type": "code",
   "execution_count": 2,
   "id": "26d68a05",
   "metadata": {},
   "outputs": [],
   "source": [
    "df= pd.read_csv(\"spotify_millsongdata.csv\")"
   ]
  },
  {
   "cell_type": "code",
   "execution_count": 3,
   "id": "abe400be",
   "metadata": {},
   "outputs": [
    {
     "data": {
      "text/html": [
       "<div>\n",
       "<style scoped>\n",
       "    .dataframe tbody tr th:only-of-type {\n",
       "        vertical-align: middle;\n",
       "    }\n",
       "\n",
       "    .dataframe tbody tr th {\n",
       "        vertical-align: top;\n",
       "    }\n",
       "\n",
       "    .dataframe thead th {\n",
       "        text-align: right;\n",
       "    }\n",
       "</style>\n",
       "<table border=\"1\" class=\"dataframe\">\n",
       "  <thead>\n",
       "    <tr style=\"text-align: right;\">\n",
       "      <th></th>\n",
       "      <th>artist</th>\n",
       "      <th>song</th>\n",
       "      <th>link</th>\n",
       "      <th>text</th>\n",
       "    </tr>\n",
       "  </thead>\n",
       "  <tbody>\n",
       "    <tr>\n",
       "      <th>0</th>\n",
       "      <td>ABBA</td>\n",
       "      <td>Ahe's My Kind Of Girl</td>\n",
       "      <td>/a/abba/ahes+my+kind+of+girl_20598417.html</td>\n",
       "      <td>Look at her face, it's a wonderful face  \\r\\nA...</td>\n",
       "    </tr>\n",
       "    <tr>\n",
       "      <th>1</th>\n",
       "      <td>ABBA</td>\n",
       "      <td>Andante, Andante</td>\n",
       "      <td>/a/abba/andante+andante_20002708.html</td>\n",
       "      <td>Take it easy with me, please  \\r\\nTouch me gen...</td>\n",
       "    </tr>\n",
       "    <tr>\n",
       "      <th>2</th>\n",
       "      <td>ABBA</td>\n",
       "      <td>As Good As New</td>\n",
       "      <td>/a/abba/as+good+as+new_20003033.html</td>\n",
       "      <td>I'll never know why I had to go  \\r\\nWhy I had...</td>\n",
       "    </tr>\n",
       "    <tr>\n",
       "      <th>3</th>\n",
       "      <td>ABBA</td>\n",
       "      <td>Bang</td>\n",
       "      <td>/a/abba/bang_20598415.html</td>\n",
       "      <td>Making somebody happy is a question of give an...</td>\n",
       "    </tr>\n",
       "    <tr>\n",
       "      <th>4</th>\n",
       "      <td>ABBA</td>\n",
       "      <td>Bang-A-Boomerang</td>\n",
       "      <td>/a/abba/bang+a+boomerang_20002668.html</td>\n",
       "      <td>Making somebody happy is a question of give an...</td>\n",
       "    </tr>\n",
       "  </tbody>\n",
       "</table>\n",
       "</div>"
      ],
      "text/plain": [
       "  artist                   song                                        link  \\\n",
       "0   ABBA  Ahe's My Kind Of Girl  /a/abba/ahes+my+kind+of+girl_20598417.html   \n",
       "1   ABBA       Andante, Andante       /a/abba/andante+andante_20002708.html   \n",
       "2   ABBA         As Good As New        /a/abba/as+good+as+new_20003033.html   \n",
       "3   ABBA                   Bang                  /a/abba/bang_20598415.html   \n",
       "4   ABBA       Bang-A-Boomerang      /a/abba/bang+a+boomerang_20002668.html   \n",
       "\n",
       "                                                text  \n",
       "0  Look at her face, it's a wonderful face  \\r\\nA...  \n",
       "1  Take it easy with me, please  \\r\\nTouch me gen...  \n",
       "2  I'll never know why I had to go  \\r\\nWhy I had...  \n",
       "3  Making somebody happy is a question of give an...  \n",
       "4  Making somebody happy is a question of give an...  "
      ]
     },
     "execution_count": 3,
     "metadata": {},
     "output_type": "execute_result"
    }
   ],
   "source": [
    "df.head()"
   ]
  },
  {
   "cell_type": "code",
   "execution_count": 4,
   "id": "bec0ab48",
   "metadata": {},
   "outputs": [],
   "source": [
    "df= pd.DataFrame(data=df,columns=df.columns)"
   ]
  },
  {
   "cell_type": "code",
   "execution_count": 5,
   "id": "10db60f7",
   "metadata": {},
   "outputs": [
    {
     "data": {
      "text/plain": [
       "(57650, 4)"
      ]
     },
     "execution_count": 5,
     "metadata": {},
     "output_type": "execute_result"
    }
   ],
   "source": [
    "df.shape"
   ]
  },
  {
   "cell_type": "code",
   "execution_count": 6,
   "id": "2f8e97d5",
   "metadata": {},
   "outputs": [
    {
     "data": {
      "text/html": [
       "<div>\n",
       "<style scoped>\n",
       "    .dataframe tbody tr th:only-of-type {\n",
       "        vertical-align: middle;\n",
       "    }\n",
       "\n",
       "    .dataframe tbody tr th {\n",
       "        vertical-align: top;\n",
       "    }\n",
       "\n",
       "    .dataframe thead th {\n",
       "        text-align: right;\n",
       "    }\n",
       "</style>\n",
       "<table border=\"1\" class=\"dataframe\">\n",
       "  <thead>\n",
       "    <tr style=\"text-align: right;\">\n",
       "      <th></th>\n",
       "      <th>artist</th>\n",
       "      <th>song</th>\n",
       "      <th>link</th>\n",
       "      <th>text</th>\n",
       "    </tr>\n",
       "  </thead>\n",
       "  <tbody>\n",
       "    <tr>\n",
       "      <th>count</th>\n",
       "      <td>57650</td>\n",
       "      <td>57650</td>\n",
       "      <td>57650</td>\n",
       "      <td>57650</td>\n",
       "    </tr>\n",
       "    <tr>\n",
       "      <th>unique</th>\n",
       "      <td>643</td>\n",
       "      <td>44824</td>\n",
       "      <td>57650</td>\n",
       "      <td>57494</td>\n",
       "    </tr>\n",
       "    <tr>\n",
       "      <th>top</th>\n",
       "      <td>Donna Summer</td>\n",
       "      <td>Have Yourself A Merry Little Christmas</td>\n",
       "      <td>/a/abba/ahes+my+kind+of+girl_20598417.html</td>\n",
       "      <td>I just came back from a lovely trip along the ...</td>\n",
       "    </tr>\n",
       "    <tr>\n",
       "      <th>freq</th>\n",
       "      <td>191</td>\n",
       "      <td>35</td>\n",
       "      <td>1</td>\n",
       "      <td>6</td>\n",
       "    </tr>\n",
       "  </tbody>\n",
       "</table>\n",
       "</div>"
      ],
      "text/plain": [
       "              artist                                    song  \\\n",
       "count          57650                                   57650   \n",
       "unique           643                                   44824   \n",
       "top     Donna Summer  Have Yourself A Merry Little Christmas   \n",
       "freq             191                                      35   \n",
       "\n",
       "                                              link  \\\n",
       "count                                        57650   \n",
       "unique                                       57650   \n",
       "top     /a/abba/ahes+my+kind+of+girl_20598417.html   \n",
       "freq                                             1   \n",
       "\n",
       "                                                     text  \n",
       "count                                               57650  \n",
       "unique                                              57494  \n",
       "top     I just came back from a lovely trip along the ...  \n",
       "freq                                                    6  "
      ]
     },
     "execution_count": 6,
     "metadata": {},
     "output_type": "execute_result"
    }
   ],
   "source": [
    "df.describe()"
   ]
  },
  {
   "cell_type": "markdown",
   "id": "98ead0eb",
   "metadata": {},
   "source": [
    "# Data preprocessing(data cleaning)\n"
   ]
  },
  {
   "cell_type": "markdown",
   "id": "4667ed18",
   "metadata": {},
   "source": [
    "## step 1: Missing values\n",
    "### Removing missing rows or fill data by its mean/midean/mode"
   ]
  },
  {
   "cell_type": "markdown",
   "id": "5d5f4c5e",
   "metadata": {},
   "source": [
    "## step 2: Remove duplicates\n",
    "### in my data no duplicates."
   ]
  },
  {
   "cell_type": "markdown",
   "id": "3a468a1e",
   "metadata": {},
   "source": [
    "# step 3: Consistency\n",
    "### Change all text data into Lower or Upper case"
   ]
  },
  {
   "cell_type": "markdown",
   "id": "635e6281",
   "metadata": {},
   "source": [
    "# step 4: Remove irrelevent information\n",
    "### In my data song link"
   ]
  },
  {
   "cell_type": "markdown",
   "id": "67d52ee4",
   "metadata": {},
   "source": [
    "df = df.drop(columns=[\"link\"])"
   ]
  },
  {
   "cell_type": "code",
   "execution_count": 8,
   "id": "1de5bb60",
   "metadata": {},
   "outputs": [],
   "source": [
    "df[\"artist\"] = df[\"artist\"].str.lower()\n",
    "df[\"song\"]= df[\"song\"].str.lower()\n",
    "df[\"text\"]= df[\"text\"].str.lower()\n"
   ]
  },
  {
   "cell_type": "code",
   "execution_count": 9,
   "id": "ed6bb04e",
   "metadata": {},
   "outputs": [
    {
     "data": {
      "text/html": [
       "<div>\n",
       "<style scoped>\n",
       "    .dataframe tbody tr th:only-of-type {\n",
       "        vertical-align: middle;\n",
       "    }\n",
       "\n",
       "    .dataframe tbody tr th {\n",
       "        vertical-align: top;\n",
       "    }\n",
       "\n",
       "    .dataframe thead th {\n",
       "        text-align: right;\n",
       "    }\n",
       "</style>\n",
       "<table border=\"1\" class=\"dataframe\">\n",
       "  <thead>\n",
       "    <tr style=\"text-align: right;\">\n",
       "      <th></th>\n",
       "      <th>artist</th>\n",
       "      <th>song</th>\n",
       "      <th>text</th>\n",
       "    </tr>\n",
       "  </thead>\n",
       "  <tbody>\n",
       "    <tr>\n",
       "      <th>0</th>\n",
       "      <td>abba</td>\n",
       "      <td>ahe's my kind of girl</td>\n",
       "      <td>look at her face, it's a wonderful face  \\r\\na...</td>\n",
       "    </tr>\n",
       "    <tr>\n",
       "      <th>1</th>\n",
       "      <td>abba</td>\n",
       "      <td>andante, andante</td>\n",
       "      <td>take it easy with me, please  \\r\\ntouch me gen...</td>\n",
       "    </tr>\n",
       "    <tr>\n",
       "      <th>2</th>\n",
       "      <td>abba</td>\n",
       "      <td>as good as new</td>\n",
       "      <td>i'll never know why i had to go  \\r\\nwhy i had...</td>\n",
       "    </tr>\n",
       "    <tr>\n",
       "      <th>3</th>\n",
       "      <td>abba</td>\n",
       "      <td>bang</td>\n",
       "      <td>making somebody happy is a question of give an...</td>\n",
       "    </tr>\n",
       "    <tr>\n",
       "      <th>4</th>\n",
       "      <td>abba</td>\n",
       "      <td>bang-a-boomerang</td>\n",
       "      <td>making somebody happy is a question of give an...</td>\n",
       "    </tr>\n",
       "  </tbody>\n",
       "</table>\n",
       "</div>"
      ],
      "text/plain": [
       "  artist                   song  \\\n",
       "0   abba  ahe's my kind of girl   \n",
       "1   abba       andante, andante   \n",
       "2   abba         as good as new   \n",
       "3   abba                   bang   \n",
       "4   abba       bang-a-boomerang   \n",
       "\n",
       "                                                text  \n",
       "0  look at her face, it's a wonderful face  \\r\\na...  \n",
       "1  take it easy with me, please  \\r\\ntouch me gen...  \n",
       "2  i'll never know why i had to go  \\r\\nwhy i had...  \n",
       "3  making somebody happy is a question of give an...  \n",
       "4  making somebody happy is a question of give an...  "
      ]
     },
     "execution_count": 9,
     "metadata": {},
     "output_type": "execute_result"
    }
   ],
   "source": [
    "df.head()"
   ]
  },
  {
   "cell_type": "code",
   "execution_count": 10,
   "id": "b7e61370",
   "metadata": {
    "scrolled": true
   },
   "outputs": [
    {
     "data": {
      "text/plain": [
       "\"take it easy with me, please  \\r\\ntouch me gently like a summer evening breeze  \\r\\ntake your time, make it slow  \\r\\nandante, andante  \\r\\njust let the feeling grow  \\r\\n  \\r\\nmake your fingers soft and light  \\r\\nlet your body be the velvet of the night  \\r\\ntouch my soul, you know how  \\r\\nandante, andante  \\r\\ngo slowly with me now  \\r\\n  \\r\\ni'm your music  \\r\\n(i am your music and i am your song)  \\r\\ni'm your song  \\r\\n(i am your music and i am your song)  \\r\\nplay me time and time again and make me strong  \\r\\n(play me again 'cause you're making me strong)  \\r\\nmake me sing, make me sound  \\r\\n(you make me sing and you make me)  \\r\\nandante, andante  \\r\\ntread lightly on my ground  \\r\\nandante, andante  \\r\\noh please don't let me down  \\r\\n  \\r\\nthere's a shimmer in your eyes  \\r\\nlike the feeling of a thousand butterflies  \\r\\nplease don't talk, go on, play  \\r\\nandante, andante  \\r\\nand let me float away  \\r\\n  \\r\\ni'm your music  \\r\\n(i am your music and i am your song)  \\r\\ni'm your song  \\r\\n(i am your music and i am your song)  \\r\\nplay me time and time again and make me strong  \\r\\n(play me again 'cause you're making me strong)  \\r\\nmake me sing, make me sound  \\r\\n(you make me sing and you make me)  \\r\\nandante, andante  \\r\\ntread lightly on my ground  \\r\\nandante, andante  \\r\\noh please don't let me down  \\r\\n  \\r\\nmake me sing, make me sound  \\r\\n(you make me sing and you make me)  \\r\\nandante, andante  \\r\\ntread lightly on my ground  \\r\\nandante, andante  \\r\\noh please don't let me down  \\r\\nandante, andante  \\r\\noh please don't let me down\\r\\n\\r\\n\""
      ]
     },
     "execution_count": 10,
     "metadata": {},
     "output_type": "execute_result"
    }
   ],
   "source": [
    "df[\"text\"][1] "
   ]
  },
  {
   "cell_type": "code",
   "execution_count": 11,
   "id": "14a6cf5a",
   "metadata": {},
   "outputs": [],
   "source": [
    "df[\"text\"]= df[\"text\"].replace(r'\\r\\n',' ',regex=True) \n",
    "df[\"text\"]=df[\"text\"].replace(r',','',regex=True)"
   ]
  },
  {
   "cell_type": "code",
   "execution_count": 12,
   "id": "e0525d30",
   "metadata": {},
   "outputs": [
    {
     "data": {
      "text/plain": [
       "\"take it easy with me please   touch me gently like a summer evening breeze   take your time make it slow   andante andante   just let the feeling grow      make your fingers soft and light   let your body be the velvet of the night   touch my soul you know how   andante andante   go slowly with me now      i'm your music   (i am your music and i am your song)   i'm your song   (i am your music and i am your song)   play me time and time again and make me strong   (play me again 'cause you're making me strong)   make me sing make me sound   (you make me sing and you make me)   andante andante   tread lightly on my ground   andante andante   oh please don't let me down      there's a shimmer in your eyes   like the feeling of a thousand butterflies   please don't talk go on play   andante andante   and let me float away      i'm your music   (i am your music and i am your song)   i'm your song   (i am your music and i am your song)   play me time and time again and make me strong   (play me again 'cause you're making me strong)   make me sing make me sound   (you make me sing and you make me)   andante andante   tread lightly on my ground   andante andante   oh please don't let me down      make me sing make me sound   (you make me sing and you make me)   andante andante   tread lightly on my ground   andante andante   oh please don't let me down   andante andante   oh please don't let me down  \""
      ]
     },
     "execution_count": 12,
     "metadata": {},
     "output_type": "execute_result"
    }
   ],
   "source": [
    "df[\"text\"][1]"
   ]
  },
  {
   "cell_type": "markdown",
   "id": "68e49671",
   "metadata": {},
   "source": [
    "# Normalization"
   ]
  },
  {
   "cell_type": "markdown",
   "id": "65f4409a",
   "metadata": {},
   "source": [
    "## step 1:Tokenization \n",
    "### Splitinh text into indual words "
   ]
  },
  {
   "cell_type": "markdown",
   "id": "ffd04332",
   "metadata": {},
   "source": [
    "## step 2: Stop words Removal\n",
    "###  Remove common words which doesn't have its own meaning "
   ]
  },
  {
   "cell_type": "markdown",
   "id": "9917936d",
   "metadata": {},
   "source": [
    "## step 3: Stemming or Lemmatizer\n",
    "## reduce tokens(words) to their root form "
   ]
  },
  {
   "cell_type": "code",
   "execution_count": 13,
   "id": "63984e9f",
   "metadata": {},
   "outputs": [
    {
     "name": "stdout",
     "output_type": "stream",
     "text": [
      "{'who', 'of', 'wasn', 'll', 'doesn', 'than', 're', 'not', 'very', 'on', 'mightn', 'we', 'hasn', \"haven't\", 'its', 'no', 'am', \"shan't\", 'ours', 'her', 'at', 'didn', 'couldn', 'wouldn', 'to', 'shouldn', 'are', 'once', 'do', 'while', \"you'd\", 'was', 'or', \"couldn't\", 'itself', 'can', 'ain', 'been', 'you', 'hers', 'both', \"doesn't\", 'be', 'there', 'all', 'yourself', 'haven', 'him', \"wouldn't\", 'against', 'again', \"won't\", 'd', 'when', 'down', \"you'll\", 'own', 'off', 'during', 'how', 'few', 'y', 'some', 'their', 'hadn', 'whom', 'did', 'herself', 'ma', 'just', \"isn't\", 'each', 'now', 'with', 'if', \"mightn't\", 'other', \"needn't\", 'my', 'should', 'through', 'further', 'have', 'such', 'after', 'nor', 'too', 'then', \"you've\", \"should've\", 'where', \"shouldn't\", \"you're\", 'me', 'himself', 'shan', \"hadn't\", 'up', 'but', 'will', 'weren', 'o', 'it', 'them', 'over', \"it's\", 'themselves', 'before', 'myself', \"weren't\", 'why', \"that'll\", 'a', 'won', 'here', 'for', 'has', 'needn', 'into', 'doing', 'being', 'out', 'below', 't', 'they', 'aren', \"didn't\", 'this', 'were', 'the', 'only', \"she's\", 'i', 'does', 'because', 'between', 'about', 'mustn', 'most', 'your', 'don', \"wasn't\", \"don't\", 'same', 'ourselves', 'which', \"hasn't\", 'these', 'from', 'is', 'had', 'm', 'she', 'until', 'more', 'yourselves', 'above', 'any', 'as', 'so', 'he', 'yours', 'an', 've', \"aren't\", 'what', 'by', 'those', 'isn', 's', 'that', 'his', 'our', \"mustn't\", 'under', 'theirs', 'and', 'having', 'in'}\n"
     ]
    },
    {
     "name": "stderr",
     "output_type": "stream",
     "text": [
      "[nltk_data] Downloading package stopwords to\n",
      "[nltk_data]     C:\\Users\\kasireddy\\AppData\\Roaming\\nltk_data...\n",
      "[nltk_data]   Package stopwords is already up-to-date!\n",
      "[nltk_data] Downloading package wordnet to\n",
      "[nltk_data]     C:\\Users\\kasireddy\\AppData\\Roaming\\nltk_data...\n",
      "[nltk_data]   Package wordnet is already up-to-date!\n"
     ]
    }
   ],
   "source": [
    "import nltk\n",
    "from nltk.corpus import stopwords\n",
    "from nltk.stem import WordNetLemmatizer\n",
    "\n",
    "nltk.download('stopwords')\n",
    "nltk.download('wordnet')\n",
    "\n",
    "stop_words = set(stopwords.words('english'))\n",
    "lemmatizer = WordNetLemmatizer()\n",
    "print(stop_words)"
   ]
  },
  {
   "cell_type": "code",
   "execution_count": 14,
   "id": "c665910d",
   "metadata": {},
   "outputs": [
    {
     "data": {
      "text/plain": [
       "(10000, 3)"
      ]
     },
     "execution_count": 14,
     "metadata": {},
     "output_type": "execute_result"
    }
   ],
   "source": [
    "df = df.head(10000) # considering 10000 samples to analysis \n",
    "df.shape"
   ]
  },
  {
   "cell_type": "code",
   "execution_count": 15,
   "id": "d9d133fd",
   "metadata": {},
   "outputs": [
    {
     "name": "stderr",
     "output_type": "stream",
     "text": [
      "[nltk_data] Downloading package punkt to\n",
      "[nltk_data]     C:\\Users\\kasireddy\\AppData\\Roaming\\nltk_data...\n",
      "[nltk_data]   Package punkt is already up-to-date!\n"
     ]
    }
   ],
   "source": [
    "import nltk\n",
    "nltk.download('punkt')\n",
    "from nltk.corpus import stopwords\n",
    "from nltk.stem import WordNetLemmatizer\n",
    "\n",
    "def preprocess_text(text):\n",
    "    # Tokenize and remove stop_words from the text\n",
    "    tokens = nltk.word_tokenize(text)\n",
    "    filtered_words = [word for word in tokens if word not in stop_words]\n",
    "    # Lemmatize words (changing every word to its root once)\n",
    "    lemmatized_words = [lemmatizer.lemmatize(word) for word in filtered_words]\n",
    "    return \" \".join(lemmatized_words)\n",
    "\n",
    "# Apply preprocessing function to the \"text\" column of your DataFrame\n",
    "df[\"text\"] = df[\"text\"].apply(preprocess_text)\n"
   ]
  },
  {
   "cell_type": "code",
   "execution_count": null,
   "id": "d21fa665",
   "metadata": {},
   "outputs": [],
   "source": []
  },
  {
   "cell_type": "markdown",
   "id": "5e42c38b",
   "metadata": {},
   "source": [
    "# Vector Represntation of text data\n",
    "\n",
    "###### 1. Collecting all unique words (or tokens) from the entire dataset.\n",
    "######  2. Counting the frequency of each word in each document.\n",
    "###### 3. Representing each document as a vector, where each element of  the vector corresponds to the frequency of a unique word in the document. "
   ]
  },
  {
   "cell_type": "code",
   "execution_count": 16,
   "id": "60a00d39",
   "metadata": {},
   "outputs": [
    {
     "name": "stdout",
     "output_type": "stream",
     "text": [
      "[[0.         0.         0.         ... 0.         0.         0.        ]\n",
      " [0.         0.         0.         ... 0.         0.         0.        ]\n",
      " [0.         0.         0.         ... 0.         0.         0.        ]\n",
      " ...\n",
      " [0.         0.         0.         ... 0.         0.         0.        ]\n",
      " [0.         0.         0.         ... 0.         0.         0.        ]\n",
      " [0.         0.         0.         ... 0.         0.         0.15047102]]\n",
      "(10000, 1000)\n",
      "TfidfVectorizer(max_features=1000)\n"
     ]
    }
   ],
   "source": [
    "from sklearn.feature_extraction.text import TfidfVectorizer\n",
    "\n",
    "tfidf = TfidfVectorizer(max_features=1000)\n",
    "X_tfidf = tfidf.fit_transform(df['text']).toarray()\n",
    "print(X_tfidf)\n",
    "print(X_tfidf.shape)\n",
    "print(tfidf)"
   ]
  },
  {
   "cell_type": "markdown",
   "id": "994be66a",
   "metadata": {},
   "source": [
    "###### I would like to add an additional column to the DataFrame that indicates the mood of each song, such as whether it is a love song, sad song, romantic song, or pop song. Some songs may contain a mix of emotions, such as both love and sadness. Additionally, I want to create a separate DataFrame that displays the percentage of lyrics corresponding to each mood category. This will make it easier to search for songs by mood, instead of manually checking each row in the TF-IDF matrix. This approach will save time and streamline the process of finding songs with specific emotional themes. "
   ]
  },
  {
   "cell_type": "markdown",
   "id": "ef912eb2",
   "metadata": {},
   "source": [
    "## # Step 1: Define Mood Categories"
   ]
  },
  {
   "cell_type": "code",
   "execution_count": 18,
   "id": "7c2d526e",
   "metadata": {},
   "outputs": [],
   "source": [
    "mood_categories = ['love', 'sad', 'romantic', 'pop'] \n",
    "\n",
    "def categorize_sentiment(sentiment_polarity):\n",
    "    if sentiment_polarity >= 0.6:\n",
    "        return 'love'\n",
    "    elif 0.2 <= sentiment_polarity < 0.6:\n",
    "        return 'romantic'\n",
    "    elif -0.2 <= sentiment_polarity < 0.2:\n",
    "        return 'neutral'\n",
    "    elif -0.6 <= sentiment_polarity < -0.2:\n",
    "        return 'sad'\n",
    "    else:\n",
    "        return 'pop'\n",
    "\n",
    "\n"
   ]
  },
  {
   "cell_type": "markdown",
   "id": "ad16e53d",
   "metadata": {},
   "source": [
    "## Step 2: Analyze Lyrics (You can use sentiment analysis or other techniques here)"
   ]
  },
  {
   "cell_type": "code",
   "execution_count": 19,
   "id": "541b215e",
   "metadata": {},
   "outputs": [],
   "source": [
    "from textblob import TextBlob\n",
    "# define a function to analyze sentiment of each song\n",
    "def analyze_sentiment(text):\n",
    "    blob = TextBlob(text)\n",
    "    sentiment_polarity = blob.sentiment.polarity\n",
    "    return categorize_sentiment(sentiment_polarity)\n",
    "\n",
    "# Apply sentiment analysis to the lyrics column and\n",
    "#create a new column for sentiment categories(love or sad or pop)\n",
    "\n",
    "df[\"sentiment_category\"] = df[\"text\"].apply(analyze_sentiment)"
   ]
  },
  {
   "cell_type": "code",
   "execution_count": 36,
   "id": "a71596f3",
   "metadata": {},
   "outputs": [],
   "source": [
    "def percentage_sentiment(text):\n",
    "    blob = TextBlob(text)\n",
    "    sentiment_polarity = blob.sentiment.polarity\n",
    "    return sentiment_polarity\n",
    "\n",
    "df[\"%sentiment\"] = df[\"text\"].apply(percentage_sentiment)\n",
    "\n",
    "df.rename(columns={'sentiment_category' : 'mood',\"song\" : \"song_name\"}, inplace=True)\n",
    "\n",
    "\n",
    "    "
   ]
  },
  {
   "cell_type": "code",
   "execution_count": 37,
   "id": "ad75d9e3",
   "metadata": {
    "scrolled": true
   },
   "outputs": [
    {
     "data": {
      "text/html": [
       "<div>\n",
       "<style scoped>\n",
       "    .dataframe tbody tr th:only-of-type {\n",
       "        vertical-align: middle;\n",
       "    }\n",
       "\n",
       "    .dataframe tbody tr th {\n",
       "        vertical-align: top;\n",
       "    }\n",
       "\n",
       "    .dataframe thead th {\n",
       "        text-align: right;\n",
       "    }\n",
       "</style>\n",
       "<table border=\"1\" class=\"dataframe\">\n",
       "  <thead>\n",
       "    <tr style=\"text-align: right;\">\n",
       "      <th></th>\n",
       "      <th>artist</th>\n",
       "      <th>song_name</th>\n",
       "      <th>text</th>\n",
       "      <th>mood</th>\n",
       "      <th>%sentiment</th>\n",
       "    </tr>\n",
       "  </thead>\n",
       "  <tbody>\n",
       "    <tr>\n",
       "      <th>0</th>\n",
       "      <td>abba</td>\n",
       "      <td>ahe's my kind of girl</td>\n",
       "      <td>look face 's wonderful face mean something spe...</td>\n",
       "      <td>romantic</td>\n",
       "      <td>0.377793</td>\n",
       "    </tr>\n",
       "    <tr>\n",
       "      <th>1</th>\n",
       "      <td>abba</td>\n",
       "      <td>andante, andante</td>\n",
       "      <td>take easy please touch gently like summer even...</td>\n",
       "      <td>romantic</td>\n",
       "      <td>0.291667</td>\n",
       "    </tr>\n",
       "    <tr>\n",
       "      <th>2</th>\n",
       "      <td>abba</td>\n",
       "      <td>as good as new</td>\n",
       "      <td>'ll never know go put lousy rotten show boy to...</td>\n",
       "      <td>romantic</td>\n",
       "      <td>0.316311</td>\n",
       "    </tr>\n",
       "    <tr>\n",
       "      <th>3</th>\n",
       "      <td>abba</td>\n",
       "      <td>bang</td>\n",
       "      <td>making somebody happy question give take learn...</td>\n",
       "      <td>romantic</td>\n",
       "      <td>0.373684</td>\n",
       "    </tr>\n",
       "    <tr>\n",
       "      <th>4</th>\n",
       "      <td>abba</td>\n",
       "      <td>bang-a-boomerang</td>\n",
       "      <td>making somebody happy question give take learn...</td>\n",
       "      <td>romantic</td>\n",
       "      <td>0.373684</td>\n",
       "    </tr>\n",
       "    <tr>\n",
       "      <th>...</th>\n",
       "      <td>...</td>\n",
       "      <td>...</td>\n",
       "      <td>...</td>\n",
       "      <td>...</td>\n",
       "      <td>...</td>\n",
       "    </tr>\n",
       "    <tr>\n",
       "      <th>95</th>\n",
       "      <td>abba</td>\n",
       "      <td>the name of the game</td>\n",
       "      <td>'ve seen twice short time week since started s...</td>\n",
       "      <td>neutral</td>\n",
       "      <td>-0.141554</td>\n",
       "    </tr>\n",
       "    <tr>\n",
       "      <th>96</th>\n",
       "      <td>abba</td>\n",
       "      <td>the piper</td>\n",
       "      <td>came hill came valley plain struggled cold hea...</td>\n",
       "      <td>neutral</td>\n",
       "      <td>-0.068878</td>\n",
       "    </tr>\n",
       "    <tr>\n",
       "      <th>97</th>\n",
       "      <td>abba</td>\n",
       "      <td>the visitors</td>\n",
       "      <td>hear doorbell ring suddenly panic take sound o...</td>\n",
       "      <td>neutral</td>\n",
       "      <td>-0.064706</td>\n",
       "    </tr>\n",
       "    <tr>\n",
       "      <th>98</th>\n",
       "      <td>abba</td>\n",
       "      <td>the way old friends do</td>\n",
       "      <td>share silence finding comfort together way old...</td>\n",
       "      <td>romantic</td>\n",
       "      <td>0.255556</td>\n",
       "    </tr>\n",
       "    <tr>\n",
       "      <th>99</th>\n",
       "      <td>abba</td>\n",
       "      <td>the winner takes it all</td>\n",
       "      <td>n't want talk thing 've gone though 's hurting...</td>\n",
       "      <td>sad</td>\n",
       "      <td>-0.222449</td>\n",
       "    </tr>\n",
       "  </tbody>\n",
       "</table>\n",
       "<p>100 rows × 5 columns</p>\n",
       "</div>"
      ],
      "text/plain": [
       "   artist                song_name  \\\n",
       "0    abba    ahe's my kind of girl   \n",
       "1    abba         andante, andante   \n",
       "2    abba           as good as new   \n",
       "3    abba                     bang   \n",
       "4    abba         bang-a-boomerang   \n",
       "..    ...                      ...   \n",
       "95   abba     the name of the game   \n",
       "96   abba                the piper   \n",
       "97   abba             the visitors   \n",
       "98   abba   the way old friends do   \n",
       "99   abba  the winner takes it all   \n",
       "\n",
       "                                                 text      mood  %sentiment  \n",
       "0   look face 's wonderful face mean something spe...  romantic    0.377793  \n",
       "1   take easy please touch gently like summer even...  romantic    0.291667  \n",
       "2   'll never know go put lousy rotten show boy to...  romantic    0.316311  \n",
       "3   making somebody happy question give take learn...  romantic    0.373684  \n",
       "4   making somebody happy question give take learn...  romantic    0.373684  \n",
       "..                                                ...       ...         ...  \n",
       "95  've seen twice short time week since started s...   neutral   -0.141554  \n",
       "96  came hill came valley plain struggled cold hea...   neutral   -0.068878  \n",
       "97  hear doorbell ring suddenly panic take sound o...   neutral   -0.064706  \n",
       "98  share silence finding comfort together way old...  romantic    0.255556  \n",
       "99  n't want talk thing 've gone though 's hurting...       sad   -0.222449  \n",
       "\n",
       "[100 rows x 5 columns]"
      ]
     },
     "execution_count": 37,
     "metadata": {},
     "output_type": "execute_result"
    }
   ],
   "source": [
    "df.head(100)"
   ]
  },
  {
   "cell_type": "markdown",
   "id": "3f348747",
   "metadata": {},
   "source": [
    "## Input from user\n",
    "### Implemented user-friendly search functionality allowing users to discover songs based on mood, song name, or artist name.  \n",
    "### Leveraging optimized search techniques"
   ]
  },
  {
   "cell_type": "code",
   "execution_count": 44,
   "id": "22cc1182",
   "metadata": {
    "scrolled": true
   },
   "outputs": [],
   "source": [
    "def preprocess_df(df):\n",
    "    # Shorten DataFrame based on %sentiment\n",
    "    df = df.sort_values(by='%sentiment')\n",
    "    df = df.head(3000)  # Assuming you want to work with the top 3000 sentiment rows\n",
    "    return df\n",
    "\n",
    "def adjust_sentiment_for_sad(df):\n",
    "    # Multiply %sentiment by -1 for rows where sentiment_category is \"sad\"(more the -ve value ->good rating one )\n",
    "    df.loc[df['mood'] == 'sad', '%sentiment'] *= -1\n",
    "    return df\n",
    "\n",
    "def recommend_songs(df, input_criteria):\n",
    "    # Preprocess DataFrame\n",
    "    df = preprocess_df(df)\n",
    "    # Adjust sentiment for \"sad\" mood\n",
    "    df = adjust_sentiment_for_sad(df)\n",
    "    \n",
    "    # Case 1: If song name is given\n",
    "    if 'song_name' in input_criteria:\n",
    "        song_name = input_criteria['song_name']\n",
    "        target_sentiment = df[df['song_name'] == song_name]['%sentiment'].iloc[0]\n",
    "        recommended_songs = df.iloc[(df['%sentiment'] - target_sentiment).abs().argsort()[:10]]['song_name'].tolist()\n",
    "        return recommended_songs\n",
    "    \n",
    "    # Case 2: If only mood is given\n",
    "    elif 'mood' in input_criteria:\n",
    "        mood = input_criteria['mood']\n",
    "        mood_df = df[df['mood'] == mood]\n",
    "        recommended_songs = mood_df.sort_values(by='%sentiment', ascending=False).head(10)['song_name'].tolist()\n",
    "        return recommended_songs\n",
    "    \n",
    "    # Case 3: If artist name is given\n",
    "    elif 'artist' in input_criteria:\n",
    "        artist_name = input_criteria['artist']\n",
    "        artist_df = df[df['artist'] == artist_name]\n",
    "        recommended_songs = artist_df.sort_values(by='%sentiment', ascending=False).head(10)['song_name'].tolist()\n",
    "        return recommended_songs\n",
    "    \n",
    "    else:\n",
    "        return []\n"
   ]
  },
  {
   "cell_type": "code",
   "execution_count": 66,
   "id": "f597b2ec",
   "metadata": {},
   "outputs": [
    {
     "name": "stdout",
     "output_type": "stream",
     "text": [
      "Top 10 recommended songs:\n",
      "1. burning my bridges\n",
      "2. hole in your soul\n",
      "3. the winner takes it all\n",
      "4. crazy world\n",
      "5. watch out\n",
      "6. like an angel passing through my room\n",
      "7. ring ring\n",
      "8. fernando (in spanish)\n",
      "9. pick a bale of cotton\n",
      "10. disillusion\n"
     ]
    }
   ],
   "source": [
    "# Example usage:\n",
    "input_criteria = {\n",
    "    # Choose one of the following options:\n",
    "    # 'song_name': 'your_song_name_here',  # Case 1\n",
    "    #'mood': 'your_mood_here',            # Case 2\n",
    "    #'artist': 'your_artist_name_here'     # Case 3\n",
    "    #\"song_name\" : \"the name of the game\"\n",
    "    #\"mood\" : \"sad\"\n",
    "    \"artist\" : \"abba\"\n",
    "}\n",
    "\n",
    "recommended_songs = recommend_songs(df, input_criteria)\n",
    "print(\"Top 10 recommended songs:\")\n",
    "for idx, song in enumerate(recommended_songs, start=1):\n",
    "    print(f\"{idx}. {song}\")\n",
    "\n"
   ]
  },
  {
   "cell_type": "code",
   "execution_count": null,
   "id": "3e75e5ac",
   "metadata": {},
   "outputs": [],
   "source": []
  }
 ],
 "metadata": {
  "kernelspec": {
   "display_name": "Python 3 (ipykernel)",
   "language": "python",
   "name": "python3"
  },
  "language_info": {
   "codemirror_mode": {
    "name": "ipython",
    "version": 3
   },
   "file_extension": ".py",
   "mimetype": "text/x-python",
   "name": "python",
   "nbconvert_exporter": "python",
   "pygments_lexer": "ipython3",
   "version": "3.11.7"
  }
 },
 "nbformat": 4,
 "nbformat_minor": 5
}
